{
 "cells": [
  {
   "cell_type": "code",
   "execution_count": 1,
   "metadata": {},
   "outputs": [],
   "source": [
    "import pandas as pd\n",
    "data = pd.read_csv('image_bins.csv')"
   ]
  },
  {
   "cell_type": "code",
   "execution_count": 2,
   "metadata": {},
   "outputs": [],
   "source": [
    "data.drop(columns=['Unnamed: 0'], inplace=True)"
   ]
  },
  {
   "cell_type": "code",
   "execution_count": 3,
   "metadata": {},
   "outputs": [
    {
     "data": {
      "text/plain": [
       "{0: 'BAS',\n",
       " 1: 'EBO',\n",
       " 2: 'EOS',\n",
       " 3: 'KSC',\n",
       " 4: 'LYA',\n",
       " 5: 'LYT',\n",
       " 6: 'MMZ',\n",
       " 7: 'MOB',\n",
       " 8: 'MON',\n",
       " 9: 'MYB',\n",
       " 10: 'MYO',\n",
       " 11: 'NGB',\n",
       " 12: 'NGS',\n",
       " 13: 'PMB',\n",
       " 14: 'PMO'}"
      ]
     },
     "execution_count": 3,
     "metadata": {},
     "output_type": "execute_result"
    }
   ],
   "source": [
    "from sklearn.preprocessing import LabelEncoder\n",
    "gle = LabelEncoder()\n",
    "image_labels = gle.fit_transform(data['class'])\n",
    "label_mappings = { index:label for index, label in enumerate(gle.classes_) }\n",
    "label_mappings"
   ]
  },
  {
   "cell_type": "code",
   "execution_count": 4,
   "metadata": {},
   "outputs": [],
   "source": [
    "data['class'] = image_labels"
   ]
  },
  {
   "cell_type": "code",
   "execution_count": 5,
   "metadata": {},
   "outputs": [],
   "source": [
    "subset_1 = data[data['class'].isin([12,5])]"
   ]
  },
  {
   "cell_type": "code",
   "execution_count": 6,
   "metadata": {},
   "outputs": [
    {
     "data": {
      "text/html": [
       "<div>\n",
       "<style scoped>\n",
       "    .dataframe tbody tr th:only-of-type {\n",
       "        vertical-align: middle;\n",
       "    }\n",
       "\n",
       "    .dataframe tbody tr th {\n",
       "        vertical-align: top;\n",
       "    }\n",
       "\n",
       "    .dataframe thead th {\n",
       "        text-align: right;\n",
       "    }\n",
       "</style>\n",
       "<table border=\"1\" class=\"dataframe\">\n",
       "  <thead>\n",
       "    <tr style=\"text-align: right;\">\n",
       "      <th></th>\n",
       "      <th>35</th>\n",
       "      <th>85</th>\n",
       "      <th>125</th>\n",
       "      <th>165</th>\n",
       "      <th>205</th>\n",
       "      <th>245</th>\n",
       "      <th>class</th>\n",
       "    </tr>\n",
       "  </thead>\n",
       "  <tbody>\n",
       "    <tr>\n",
       "      <th>607</th>\n",
       "      <td>13845.996153</td>\n",
       "      <td>4194.276336</td>\n",
       "      <td>27986.796023</td>\n",
       "      <td>43190.837228</td>\n",
       "      <td>68158.098372</td>\n",
       "      <td>2623.995888</td>\n",
       "      <td>5</td>\n",
       "    </tr>\n",
       "    <tr>\n",
       "      <th>608</th>\n",
       "      <td>11805.183576</td>\n",
       "      <td>1188.746937</td>\n",
       "      <td>6773.514456</td>\n",
       "      <td>70198.142226</td>\n",
       "      <td>69290.520032</td>\n",
       "      <td>743.892773</td>\n",
       "      <td>5</td>\n",
       "    </tr>\n",
       "    <tr>\n",
       "      <th>609</th>\n",
       "      <td>11812.402339</td>\n",
       "      <td>2065.323226</td>\n",
       "      <td>13415.429524</td>\n",
       "      <td>47956.843378</td>\n",
       "      <td>65416.551344</td>\n",
       "      <td>19333.450189</td>\n",
       "      <td>5</td>\n",
       "    </tr>\n",
       "    <tr>\n",
       "      <th>610</th>\n",
       "      <td>11056.601604</td>\n",
       "      <td>2505.297605</td>\n",
       "      <td>9997.811438</td>\n",
       "      <td>30956.858216</td>\n",
       "      <td>104839.120517</td>\n",
       "      <td>644.310620</td>\n",
       "      <td>5</td>\n",
       "    </tr>\n",
       "    <tr>\n",
       "      <th>611</th>\n",
       "      <td>11362.721004</td>\n",
       "      <td>1137.129978</td>\n",
       "      <td>5150.162710</td>\n",
       "      <td>50264.427865</td>\n",
       "      <td>84755.674971</td>\n",
       "      <td>7329.883473</td>\n",
       "      <td>5</td>\n",
       "    </tr>\n",
       "    <tr>\n",
       "      <th>...</th>\n",
       "      <td>...</td>\n",
       "      <td>...</td>\n",
       "      <td>...</td>\n",
       "      <td>...</td>\n",
       "      <td>...</td>\n",
       "      <td>...</td>\n",
       "      <td>...</td>\n",
       "    </tr>\n",
       "    <tr>\n",
       "      <th>14895</th>\n",
       "      <td>7269.881974</td>\n",
       "      <td>1772.435342</td>\n",
       "      <td>7893.839875</td>\n",
       "      <td>49235.917024</td>\n",
       "      <td>88031.418245</td>\n",
       "      <td>5796.507539</td>\n",
       "      <td>12</td>\n",
       "    </tr>\n",
       "    <tr>\n",
       "      <th>14896</th>\n",
       "      <td>6515.850927</td>\n",
       "      <td>3214.905426</td>\n",
       "      <td>48807.516938</td>\n",
       "      <td>48531.353297</td>\n",
       "      <td>34646.910733</td>\n",
       "      <td>18283.462678</td>\n",
       "      <td>12</td>\n",
       "    </tr>\n",
       "    <tr>\n",
       "      <th>14897</th>\n",
       "      <td>5793.687301</td>\n",
       "      <td>1056.148598</td>\n",
       "      <td>4317.174566</td>\n",
       "      <td>56719.822163</td>\n",
       "      <td>84658.435743</td>\n",
       "      <td>7454.731629</td>\n",
       "      <td>12</td>\n",
       "    </tr>\n",
       "    <tr>\n",
       "      <th>14898</th>\n",
       "      <td>2562.948500</td>\n",
       "      <td>1009.775338</td>\n",
       "      <td>3172.103861</td>\n",
       "      <td>41940.199051</td>\n",
       "      <td>84340.623280</td>\n",
       "      <td>26974.349970</td>\n",
       "      <td>12</td>\n",
       "    </tr>\n",
       "    <tr>\n",
       "      <th>14899</th>\n",
       "      <td>10118.728579</td>\n",
       "      <td>1744.634328</td>\n",
       "      <td>13273.495849</td>\n",
       "      <td>41739.241744</td>\n",
       "      <td>78047.801197</td>\n",
       "      <td>15076.098303</td>\n",
       "      <td>12</td>\n",
       "    </tr>\n",
       "  </tbody>\n",
       "</table>\n",
       "<p>12421 rows × 7 columns</p>\n",
       "</div>"
      ],
      "text/plain": [
       "                 35           85           125           165            205  \\\n",
       "607    13845.996153  4194.276336  27986.796023  43190.837228   68158.098372   \n",
       "608    11805.183576  1188.746937   6773.514456  70198.142226   69290.520032   \n",
       "609    11812.402339  2065.323226  13415.429524  47956.843378   65416.551344   \n",
       "610    11056.601604  2505.297605   9997.811438  30956.858216  104839.120517   \n",
       "611    11362.721004  1137.129978   5150.162710  50264.427865   84755.674971   \n",
       "...             ...          ...           ...           ...            ...   \n",
       "14895   7269.881974  1772.435342   7893.839875  49235.917024   88031.418245   \n",
       "14896   6515.850927  3214.905426  48807.516938  48531.353297   34646.910733   \n",
       "14897   5793.687301  1056.148598   4317.174566  56719.822163   84658.435743   \n",
       "14898   2562.948500  1009.775338   3172.103861  41940.199051   84340.623280   \n",
       "14899  10118.728579  1744.634328  13273.495849  41739.241744   78047.801197   \n",
       "\n",
       "                245  class  \n",
       "607     2623.995888      5  \n",
       "608      743.892773      5  \n",
       "609    19333.450189      5  \n",
       "610      644.310620      5  \n",
       "611     7329.883473      5  \n",
       "...             ...    ...  \n",
       "14895   5796.507539     12  \n",
       "14896  18283.462678     12  \n",
       "14897   7454.731629     12  \n",
       "14898  26974.349970     12  \n",
       "14899  15076.098303     12  \n",
       "\n",
       "[12421 rows x 7 columns]"
      ]
     },
     "execution_count": 6,
     "metadata": {},
     "output_type": "execute_result"
    }
   ],
   "source": [
    "subset_1"
   ]
  },
  {
   "cell_type": "code",
   "execution_count": 7,
   "metadata": {},
   "outputs": [
    {
     "name": "stderr",
     "output_type": "stream",
     "text": [
      "C:\\Users\\User\\anaconda3\\lib\\site-packages\\pandas\\core\\frame.py:4379: SettingWithCopyWarning: \n",
      "A value is trying to be set on a copy of a slice from a DataFrame\n",
      "\n",
      "See the caveats in the documentation: https://pandas.pydata.org/pandas-docs/stable/user_guide/indexing.html#returning-a-view-versus-a-copy\n",
      "  return super().replace(\n"
     ]
    }
   ],
   "source": [
    "subset_1.replace({5:0,12:1}, inplace=True)"
   ]
  },
  {
   "cell_type": "code",
   "execution_count": 8,
   "metadata": {},
   "outputs": [
    {
     "data": {
      "text/html": [
       "<div>\n",
       "<style scoped>\n",
       "    .dataframe tbody tr th:only-of-type {\n",
       "        vertical-align: middle;\n",
       "    }\n",
       "\n",
       "    .dataframe tbody tr th {\n",
       "        vertical-align: top;\n",
       "    }\n",
       "\n",
       "    .dataframe thead th {\n",
       "        text-align: right;\n",
       "    }\n",
       "</style>\n",
       "<table border=\"1\" class=\"dataframe\">\n",
       "  <thead>\n",
       "    <tr style=\"text-align: right;\">\n",
       "      <th></th>\n",
       "      <th>35</th>\n",
       "      <th>85</th>\n",
       "      <th>125</th>\n",
       "      <th>165</th>\n",
       "      <th>205</th>\n",
       "      <th>245</th>\n",
       "      <th>class</th>\n",
       "    </tr>\n",
       "  </thead>\n",
       "  <tbody>\n",
       "    <tr>\n",
       "      <th>607</th>\n",
       "      <td>13845.996153</td>\n",
       "      <td>4194.276336</td>\n",
       "      <td>27986.796023</td>\n",
       "      <td>43190.837228</td>\n",
       "      <td>68158.098372</td>\n",
       "      <td>2623.995888</td>\n",
       "      <td>0</td>\n",
       "    </tr>\n",
       "    <tr>\n",
       "      <th>608</th>\n",
       "      <td>11805.183576</td>\n",
       "      <td>1188.746937</td>\n",
       "      <td>6773.514456</td>\n",
       "      <td>70198.142226</td>\n",
       "      <td>69290.520032</td>\n",
       "      <td>743.892773</td>\n",
       "      <td>0</td>\n",
       "    </tr>\n",
       "    <tr>\n",
       "      <th>609</th>\n",
       "      <td>11812.402339</td>\n",
       "      <td>2065.323226</td>\n",
       "      <td>13415.429524</td>\n",
       "      <td>47956.843378</td>\n",
       "      <td>65416.551344</td>\n",
       "      <td>19333.450189</td>\n",
       "      <td>0</td>\n",
       "    </tr>\n",
       "    <tr>\n",
       "      <th>610</th>\n",
       "      <td>11056.601604</td>\n",
       "      <td>2505.297605</td>\n",
       "      <td>9997.811438</td>\n",
       "      <td>30956.858216</td>\n",
       "      <td>104839.120517</td>\n",
       "      <td>644.310620</td>\n",
       "      <td>0</td>\n",
       "    </tr>\n",
       "    <tr>\n",
       "      <th>611</th>\n",
       "      <td>11362.721004</td>\n",
       "      <td>1137.129978</td>\n",
       "      <td>5150.162710</td>\n",
       "      <td>50264.427865</td>\n",
       "      <td>84755.674971</td>\n",
       "      <td>7329.883473</td>\n",
       "      <td>0</td>\n",
       "    </tr>\n",
       "    <tr>\n",
       "      <th>...</th>\n",
       "      <td>...</td>\n",
       "      <td>...</td>\n",
       "      <td>...</td>\n",
       "      <td>...</td>\n",
       "      <td>...</td>\n",
       "      <td>...</td>\n",
       "      <td>...</td>\n",
       "    </tr>\n",
       "    <tr>\n",
       "      <th>14895</th>\n",
       "      <td>7269.881974</td>\n",
       "      <td>1772.435342</td>\n",
       "      <td>7893.839875</td>\n",
       "      <td>49235.917024</td>\n",
       "      <td>88031.418245</td>\n",
       "      <td>5796.507539</td>\n",
       "      <td>1</td>\n",
       "    </tr>\n",
       "    <tr>\n",
       "      <th>14896</th>\n",
       "      <td>6515.850927</td>\n",
       "      <td>3214.905426</td>\n",
       "      <td>48807.516938</td>\n",
       "      <td>48531.353297</td>\n",
       "      <td>34646.910733</td>\n",
       "      <td>18283.462678</td>\n",
       "      <td>1</td>\n",
       "    </tr>\n",
       "    <tr>\n",
       "      <th>14897</th>\n",
       "      <td>5793.687301</td>\n",
       "      <td>1056.148598</td>\n",
       "      <td>4317.174566</td>\n",
       "      <td>56719.822163</td>\n",
       "      <td>84658.435743</td>\n",
       "      <td>7454.731629</td>\n",
       "      <td>1</td>\n",
       "    </tr>\n",
       "    <tr>\n",
       "      <th>14898</th>\n",
       "      <td>2562.948500</td>\n",
       "      <td>1009.775338</td>\n",
       "      <td>3172.103861</td>\n",
       "      <td>41940.199051</td>\n",
       "      <td>84340.623280</td>\n",
       "      <td>26974.349970</td>\n",
       "      <td>1</td>\n",
       "    </tr>\n",
       "    <tr>\n",
       "      <th>14899</th>\n",
       "      <td>10118.728579</td>\n",
       "      <td>1744.634328</td>\n",
       "      <td>13273.495849</td>\n",
       "      <td>41739.241744</td>\n",
       "      <td>78047.801197</td>\n",
       "      <td>15076.098303</td>\n",
       "      <td>1</td>\n",
       "    </tr>\n",
       "  </tbody>\n",
       "</table>\n",
       "<p>12421 rows × 7 columns</p>\n",
       "</div>"
      ],
      "text/plain": [
       "                 35           85           125           165            205  \\\n",
       "607    13845.996153  4194.276336  27986.796023  43190.837228   68158.098372   \n",
       "608    11805.183576  1188.746937   6773.514456  70198.142226   69290.520032   \n",
       "609    11812.402339  2065.323226  13415.429524  47956.843378   65416.551344   \n",
       "610    11056.601604  2505.297605   9997.811438  30956.858216  104839.120517   \n",
       "611    11362.721004  1137.129978   5150.162710  50264.427865   84755.674971   \n",
       "...             ...          ...           ...           ...            ...   \n",
       "14895   7269.881974  1772.435342   7893.839875  49235.917024   88031.418245   \n",
       "14896   6515.850927  3214.905426  48807.516938  48531.353297   34646.910733   \n",
       "14897   5793.687301  1056.148598   4317.174566  56719.822163   84658.435743   \n",
       "14898   2562.948500  1009.775338   3172.103861  41940.199051   84340.623280   \n",
       "14899  10118.728579  1744.634328  13273.495849  41739.241744   78047.801197   \n",
       "\n",
       "                245  class  \n",
       "607     2623.995888      0  \n",
       "608      743.892773      0  \n",
       "609    19333.450189      0  \n",
       "610      644.310620      0  \n",
       "611     7329.883473      0  \n",
       "...             ...    ...  \n",
       "14895   5796.507539      1  \n",
       "14896  18283.462678      1  \n",
       "14897   7454.731629      1  \n",
       "14898  26974.349970      1  \n",
       "14899  15076.098303      1  \n",
       "\n",
       "[12421 rows x 7 columns]"
      ]
     },
     "execution_count": 8,
     "metadata": {},
     "output_type": "execute_result"
    }
   ],
   "source": [
    "subset_1"
   ]
  },
  {
   "cell_type": "code",
   "execution_count": 9,
   "metadata": {},
   "outputs": [
    {
     "data": {
      "text/plain": [
       "1    8484\n",
       "0    3937\n",
       "Name: class, dtype: int64"
      ]
     },
     "execution_count": 9,
     "metadata": {},
     "output_type": "execute_result"
    }
   ],
   "source": [
    "subset_1['class'].value_counts()"
   ]
  },
  {
   "cell_type": "code",
   "execution_count": 28,
   "metadata": {},
   "outputs": [
    {
     "data": {
      "text/plain": [
       "LogisticRegression(class_weight={0: 4.0, 1: 1.0}, max_iter=500,\n",
       "                   multi_class='multinomial', random_state=50)"
      ]
     },
     "execution_count": 28,
     "metadata": {},
     "output_type": "execute_result"
    }
   ],
   "source": [
    "from sklearn.linear_model import LogisticRegression\n",
    "from sklearn.metrics import classification_report, confusion_matrix \n",
    "from sklearn.model_selection import train_test_split\n",
    "X = subset_1.drop(columns=['class'])\n",
    "y = subset_1['class']\n",
    "weights = {0:4.0, 1:1.0 }\n",
    "X_train, X_test, y_train, y_test = train_test_split(X,y,test_size=0.25, random_state=50)\n",
    "logistic_model = LogisticRegression(random_state=50, class_weight=weights, solver='lbfgs', multi_class='multinomial', max_iter = 500)\n",
    "logistic_model.fit(X_train, y_train)"
   ]
  },
  {
   "cell_type": "code",
   "execution_count": 29,
   "metadata": {},
   "outputs": [
    {
     "name": "stdout",
     "output_type": "stream",
     "text": [
      "The training set got a score of 57.81 %\n"
     ]
    }
   ],
   "source": [
    "training_score = logistic_model.score(X_train, y_train)*100\n",
    "print('The training set got a score of {} %'.format(round(training_score,3)))"
   ]
  },
  {
   "cell_type": "code",
   "execution_count": 30,
   "metadata": {},
   "outputs": [],
   "source": [
    "predictions = logistic_model.predict(X_test)"
   ]
  },
  {
   "cell_type": "code",
   "execution_count": 31,
   "metadata": {},
   "outputs": [
    {
     "name": "stdout",
     "output_type": "stream",
     "text": [
      "The model achieved an accuracy score of 57.75900000000001 %\n"
     ]
    }
   ],
   "source": [
    "print(\"The model achieved an accuracy score of {} %\" .format(100*round(logistic_model.score(X_test, y_test), 5)))"
   ]
  },
  {
   "cell_type": "code",
   "execution_count": 32,
   "metadata": {},
   "outputs": [
    {
     "name": "stdout",
     "output_type": "stream",
     "text": [
      "              precision    recall  f1-score   support\n",
      "\n",
      "           0       0.41      0.85      0.56       961\n",
      "           1       0.87      0.45      0.60      2145\n",
      "\n",
      "    accuracy                           0.58      3106\n",
      "   macro avg       0.64      0.65      0.58      3106\n",
      "weighted avg       0.73      0.58      0.58      3106\n",
      "\n"
     ]
    }
   ],
   "source": [
    "print(classification_report(y_test, predictions))"
   ]
  },
  {
   "cell_type": "code",
   "execution_count": 33,
   "metadata": {},
   "outputs": [
    {
     "data": {
      "text/plain": [
       "<AxesSubplot:>"
      ]
     },
     "execution_count": 33,
     "metadata": {},
     "output_type": "execute_result"
    },
    {
     "data": {
      "image/png": "[encoded data removed]",
      "text/plain": [
       "<Figure size 1080x1080 with 2 Axes>"
      ]
     },
     "metadata": {
      "needs_background": "light"
     },
     "output_type": "display_data"
    }
   ],
   "source": [
    "import seaborn as sns\n",
    "import matplotlib.pyplot as plt\n",
    "plt.figure(figsize=(15,15))\n",
    "cf_matrix = confusion_matrix(y_test,predictions)\n",
    "sns.heatmap(cf_matrix, annot=True)"
   ]
  },
  {
   "cell_type": "code",
   "execution_count": 34,
   "metadata": {},
   "outputs": [],
   "source": [
    "from sklearn import svm\n",
    "from sklearn.preprocessing import StandardScaler\n",
    "from sklearn.pipeline import make_pipeline\n",
    "weights = {0:3.0, 1:1.0 }\n",
    "clf = make_pipeline(StandardScaler(), svm.SVC(kernel='linear', class_weight=weights))"
   ]
  },
  {
   "cell_type": "code",
   "execution_count": 35,
   "metadata": {},
   "outputs": [],
   "source": [
    "clf.fit(X_train,y_train)\n",
    "svm_predict = clf.predict(X_test)"
   ]
  },
  {
   "cell_type": "code",
   "execution_count": 36,
   "metadata": {},
   "outputs": [
    {
     "data": {
      "text/plain": [
       "<AxesSubplot:>"
      ]
     },
     "execution_count": 36,
     "metadata": {},
     "output_type": "execute_result"
    },
    {
     "data": {
      "image/png": "[encoded data removed]",
      "text/plain": [
       "<Figure size 1080x1080 with 2 Axes>"
      ]
     },
     "metadata": {
      "needs_background": "light"
     },
     "output_type": "display_data"
    }
   ],
   "source": [
    "plt.figure(figsize=(15,15))\n",
    "cf_matrix_2 = confusion_matrix(y_test,svm_predict)\n",
    "sns.heatmap(cf_matrix_2, annot=True)"
   ]
  },
  {
   "cell_type": "code",
   "execution_count": null,
   "metadata": {},
   "outputs": [],
   "source": [
    "### we still see the model underfit the two major classes. Now lets see if SMOTE analysis yields any difference. "
   ]
  },
  {
   "cell_type": "code",
   "execution_count": 37,
   "metadata": {},
   "outputs": [],
   "source": [
    "from imblearn.over_sampling import SMOTE\n",
    "sm = SMOTE(random_state=42)\n",
    "X_res, y_res = sm.fit_resample(X_train,y_train)"
   ]
  },
  {
   "cell_type": "code",
   "execution_count": 1,
   "metadata": {},
   "outputs": [
    {
     "ename": "NameError",
     "evalue": "name 'y_res' is not defined",
     "output_type": "error",
     "traceback": [
      "\u001b[1;31m---------------------------------------------------------------------------\u001b[0m",
      "\u001b[1;31mNameError\u001b[0m                                 Traceback (most recent call last)",
      "\u001b[1;32m<ipython-input-1-3c08843a628d>\u001b[0m in \u001b[0;36m<module>\u001b[1;34m\u001b[0m\n\u001b[0;32m      1\u001b[0m \u001b[1;32mfrom\u001b[0m \u001b[0mcollections\u001b[0m \u001b[1;32mimport\u001b[0m \u001b[0mCounter\u001b[0m\u001b[1;33m\u001b[0m\u001b[1;33m\u001b[0m\u001b[0m\n\u001b[1;32m----> 2\u001b[1;33m \u001b[0mprint\u001b[0m\u001b[1;33m(\u001b[0m\u001b[0mCounter\u001b[0m\u001b[1;33m(\u001b[0m\u001b[0my_res\u001b[0m\u001b[1;33m)\u001b[0m\u001b[1;33m)\u001b[0m\u001b[1;33m\u001b[0m\u001b[1;33m\u001b[0m\u001b[0m\n\u001b[0m",
      "\u001b[1;31mNameError\u001b[0m: name 'y_res' is not defined"
     ]
    }
   ],
   "source": [
    "from collections import Counter\n",
    "print(Counter(y_res))"
   ]
  },
  {
   "cell_type": "code",
   "execution_count": 39,
   "metadata": {},
   "outputs": [],
   "source": [
    "clf = make_pipeline(StandardScaler(), svm.SVC(kernel='linear'))"
   ]
  },
  {
   "cell_type": "code",
   "execution_count": 40,
   "metadata": {},
   "outputs": [
    {
     "data": {
      "text/plain": [
       "Pipeline(steps=[('standardscaler', StandardScaler()),\n",
       "                ('svc', SVC(kernel='linear'))])"
      ]
     },
     "execution_count": 40,
     "metadata": {},
     "output_type": "execute_result"
    }
   ],
   "source": [
    "clf.fit(X_res,y_res)"
   ]
  },
  {
   "cell_type": "code",
   "execution_count": 41,
   "metadata": {},
   "outputs": [],
   "source": [
    "svm_predict_2 = clf.predict(X_test)"
   ]
  },
  {
   "cell_type": "code",
   "execution_count": 45,
   "metadata": {},
   "outputs": [
    {
     "data": {
      "text/plain": [
       "<AxesSubplot:>"
      ]
     },
     "execution_count": 45,
     "metadata": {},
     "output_type": "execute_result"
    },
    {
     "data": {
      "image/png": "[encoded data removed]",
      "text/plain": [
       "<Figure size 1080x1080 with 2 Axes>"
      ]
     },
     "metadata": {
      "needs_background": "light"
     },
     "output_type": "display_data"
    }
   ],
   "source": [
    "import numpy as np\n",
    "plt.figure(figsize=(15,15))\n",
    "cf_matrix_2 = confusion_matrix(y_test, svm_predict_2)\n",
    "sns.heatmap(cf_matrix_2/np.sum(cf_matrix_2), annot=True, \n",
    "            fmt='.2%', cmap='Blues')"
   ]
  },
  {
   "cell_type": "code",
   "execution_count": 43,
   "metadata": {},
   "outputs": [
    {
     "name": "stdout",
     "output_type": "stream",
     "text": [
      "              precision    recall  f1-score   support\n",
      "\n",
      "           0       0.57      0.71      0.63       961\n",
      "           1       0.86      0.76      0.81      2145\n",
      "\n",
      "    accuracy                           0.75      3106\n",
      "   macro avg       0.71      0.74      0.72      3106\n",
      "weighted avg       0.77      0.75      0.75      3106\n",
      "\n"
     ]
    }
   ],
   "source": [
    "print(classification_report(y_test, svm_predict_2))"
   ]
  },
  {
   "cell_type": "code",
   "execution_count": null,
   "metadata": {},
   "outputs": [],
   "source": []
  }
 ],
 "metadata": {
  "kernelspec": {
   "display_name": "Python 3",
   "language": "python",
   "name": "python3"
  },
  "language_info": {
   "codemirror_mode": {
    "name": "ipython",
    "version": 3
   },
   "file_extension": ".py",
   "mimetype": "text/x-python",
   "name": "python",
   "nbconvert_exporter": "python",
   "pygments_lexer": "ipython3",
   "version": "3.8.5"
  }
 },
 "nbformat": 4,
 "nbformat_minor": 4
}
