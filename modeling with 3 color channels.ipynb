{
 "cells": [
  {
   "cell_type": "code",
   "execution_count": 1,
   "metadata": {},
   "outputs": [],
   "source": [
    "import pandas as pd\n",
    "data = pd.read_csv('image_bins_2.csv')"
   ]
  },
  {
   "cell_type": "code",
   "execution_count": 2,
   "metadata": {},
   "outputs": [],
   "source": [
    "data.drop(columns='Unnamed: 0', inplace=True)"
   ]
  },
  {
   "cell_type": "code",
   "execution_count": 3,
   "metadata": {},
   "outputs": [
    {
     "data": {
      "text/html": [
       "<div>\n",
       "<style scoped>\n",
       "    .dataframe tbody tr th:only-of-type {\n",
       "        vertical-align: middle;\n",
       "    }\n",
       "\n",
       "    .dataframe tbody tr th {\n",
       "        vertical-align: top;\n",
       "    }\n",
       "\n",
       "    .dataframe thead th {\n",
       "        text-align: right;\n",
       "    }\n",
       "</style>\n",
       "<table border=\"1\" class=\"dataframe\">\n",
       "  <thead>\n",
       "    <tr style=\"text-align: right;\">\n",
       "      <th></th>\n",
       "      <th>Red-35</th>\n",
       "      <th>Red-85</th>\n",
       "      <th>Red-125</th>\n",
       "      <th>Red-165</th>\n",
       "      <th>Red-205</th>\n",
       "      <th>Red-245</th>\n",
       "      <th>Green-35</th>\n",
       "      <th>Green-85</th>\n",
       "      <th>Green-125</th>\n",
       "      <th>Green-165</th>\n",
       "      <th>Green-205</th>\n",
       "      <th>Green-245</th>\n",
       "      <th>Blue-35</th>\n",
       "      <th>Blue-85</th>\n",
       "      <th>Blue-125</th>\n",
       "      <th>Blue-165</th>\n",
       "      <th>Blue-205</th>\n",
       "      <th>Blue-245</th>\n",
       "      <th>label</th>\n",
       "    </tr>\n",
       "  </thead>\n",
       "  <tbody>\n",
       "    <tr>\n",
       "      <th>0</th>\n",
       "      <td>92.611153</td>\n",
       "      <td>1433.132949</td>\n",
       "      <td>8642.254729</td>\n",
       "      <td>69937.486747</td>\n",
       "      <td>79410.465794</td>\n",
       "      <td>484.048628</td>\n",
       "      <td>2713.056426</td>\n",
       "      <td>5919.764392</td>\n",
       "      <td>32256.450380</td>\n",
       "      <td>56249.634931</td>\n",
       "      <td>51731.521276</td>\n",
       "      <td>11129.572595</td>\n",
       "      <td>4134.540524</td>\n",
       "      <td>5069.536631</td>\n",
       "      <td>6820.126530</td>\n",
       "      <td>69862.663933</td>\n",
       "      <td>68661.263646</td>\n",
       "      <td>5451.868736</td>\n",
       "      <td>0</td>\n",
       "    </tr>\n",
       "    <tr>\n",
       "      <th>1</th>\n",
       "      <td>0.026626</td>\n",
       "      <td>96.150181</td>\n",
       "      <td>5916.660234</td>\n",
       "      <td>55150.081644</td>\n",
       "      <td>76105.243294</td>\n",
       "      <td>22731.838021</td>\n",
       "      <td>3574.548826</td>\n",
       "      <td>5838.355745</td>\n",
       "      <td>22027.161157</td>\n",
       "      <td>37948.928414</td>\n",
       "      <td>57935.989097</td>\n",
       "      <td>32675.016761</td>\n",
       "      <td>6597.507421</td>\n",
       "      <td>5174.168351</td>\n",
       "      <td>5082.820648</td>\n",
       "      <td>36157.533460</td>\n",
       "      <td>74912.314395</td>\n",
       "      <td>32075.655724</td>\n",
       "      <td>0</td>\n",
       "    </tr>\n",
       "    <tr>\n",
       "      <th>2</th>\n",
       "      <td>0.005343</td>\n",
       "      <td>25.456627</td>\n",
       "      <td>3194.151093</td>\n",
       "      <td>49148.566720</td>\n",
       "      <td>105694.555823</td>\n",
       "      <td>1937.264394</td>\n",
       "      <td>7409.730967</td>\n",
       "      <td>5570.202107</td>\n",
       "      <td>20226.279384</td>\n",
       "      <td>24806.441590</td>\n",
       "      <td>92763.658883</td>\n",
       "      <td>9223.687069</td>\n",
       "      <td>65.303118</td>\n",
       "      <td>1411.120999</td>\n",
       "      <td>9843.964978</td>\n",
       "      <td>41783.129168</td>\n",
       "      <td>91421.601597</td>\n",
       "      <td>15474.880139</td>\n",
       "      <td>0</td>\n",
       "    </tr>\n",
       "    <tr>\n",
       "      <th>3</th>\n",
       "      <td>0.097392</td>\n",
       "      <td>207.429434</td>\n",
       "      <td>10008.834105</td>\n",
       "      <td>64114.026410</td>\n",
       "      <td>84956.580879</td>\n",
       "      <td>713.031780</td>\n",
       "      <td>3985.963097</td>\n",
       "      <td>7844.538222</td>\n",
       "      <td>40157.894662</td>\n",
       "      <td>21615.743912</td>\n",
       "      <td>73150.862824</td>\n",
       "      <td>13244.997283</td>\n",
       "      <td>4903.184007</td>\n",
       "      <td>7720.045992</td>\n",
       "      <td>6191.810000</td>\n",
       "      <td>50107.457688</td>\n",
       "      <td>77659.533858</td>\n",
       "      <td>13417.968455</td>\n",
       "      <td>0</td>\n",
       "    </tr>\n",
       "    <tr>\n",
       "      <th>4</th>\n",
       "      <td>1.380553</td>\n",
       "      <td>811.379342</td>\n",
       "      <td>17572.875896</td>\n",
       "      <td>64450.234946</td>\n",
       "      <td>75945.779362</td>\n",
       "      <td>1218.349900</td>\n",
       "      <td>5335.839182</td>\n",
       "      <td>7006.210689</td>\n",
       "      <td>39660.902422</td>\n",
       "      <td>27791.620071</td>\n",
       "      <td>66318.271986</td>\n",
       "      <td>13887.155650</td>\n",
       "      <td>7282.299456</td>\n",
       "      <td>4303.969397</td>\n",
       "      <td>13185.066353</td>\n",
       "      <td>57846.295545</td>\n",
       "      <td>73429.124937</td>\n",
       "      <td>3953.244312</td>\n",
       "      <td>0</td>\n",
       "    </tr>\n",
       "  </tbody>\n",
       "</table>\n",
       "</div>"
      ],
      "text/plain": [
       "      Red-35       Red-85       Red-125       Red-165        Red-205  \\\n",
       "0  92.611153  1433.132949   8642.254729  69937.486747   79410.465794   \n",
       "1   0.026626    96.150181   5916.660234  55150.081644   76105.243294   \n",
       "2   0.005343    25.456627   3194.151093  49148.566720  105694.555823   \n",
       "3   0.097392   207.429434  10008.834105  64114.026410   84956.580879   \n",
       "4   1.380553   811.379342  17572.875896  64450.234946   75945.779362   \n",
       "\n",
       "        Red-245     Green-35     Green-85     Green-125     Green-165  \\\n",
       "0    484.048628  2713.056426  5919.764392  32256.450380  56249.634931   \n",
       "1  22731.838021  3574.548826  5838.355745  22027.161157  37948.928414   \n",
       "2   1937.264394  7409.730967  5570.202107  20226.279384  24806.441590   \n",
       "3    713.031780  3985.963097  7844.538222  40157.894662  21615.743912   \n",
       "4   1218.349900  5335.839182  7006.210689  39660.902422  27791.620071   \n",
       "\n",
       "      Green-205     Green-245      Blue-35      Blue-85      Blue-125  \\\n",
       "0  51731.521276  11129.572595  4134.540524  5069.536631   6820.126530   \n",
       "1  57935.989097  32675.016761  6597.507421  5174.168351   5082.820648   \n",
       "2  92763.658883   9223.687069    65.303118  1411.120999   9843.964978   \n",
       "3  73150.862824  13244.997283  4903.184007  7720.045992   6191.810000   \n",
       "4  66318.271986  13887.155650  7282.299456  4303.969397  13185.066353   \n",
       "\n",
       "       Blue-165      Blue-205      Blue-245  label  \n",
       "0  69862.663933  68661.263646   5451.868736      0  \n",
       "1  36157.533460  74912.314395  32075.655724      0  \n",
       "2  41783.129168  91421.601597  15474.880139      0  \n",
       "3  50107.457688  77659.533858  13417.968455      0  \n",
       "4  57846.295545  73429.124937   3953.244312      0  "
      ]
     },
     "execution_count": 3,
     "metadata": {},
     "output_type": "execute_result"
    }
   ],
   "source": [
    "from sklearn.preprocessing import LabelEncoder\n",
    "gle = LabelEncoder()\n",
    "image_labels = gle.fit_transform(data['label'])\n",
    "data['label'] = image_labels\n",
    "data.head()"
   ]
  },
  {
   "cell_type": "code",
   "execution_count": 4,
   "metadata": {},
   "outputs": [
    {
     "data": {
      "text/plain": [
       "12    8484\n",
       "5     3937\n",
       "10    3268\n",
       "8     1789\n",
       "2      424\n",
       "11     109\n",
       "0       79\n",
       "1       78\n",
       "14      70\n",
       "9       42\n",
       "7       26\n",
       "13      18\n",
       "6       15\n",
       "3       15\n",
       "4       11\n",
       "Name: label, dtype: int64"
      ]
     },
     "execution_count": 4,
     "metadata": {},
     "output_type": "execute_result"
    }
   ],
   "source": [
    "data['label'].value_counts()"
   ]
  },
  {
   "cell_type": "code",
   "execution_count": 5,
   "metadata": {},
   "outputs": [
    {
     "name": "stderr",
     "output_type": "stream",
     "text": [
      "C:\\Users\\User\\anaconda3\\lib\\site-packages\\pandas\\core\\frame.py:4379: SettingWithCopyWarning: \n",
      "A value is trying to be set on a copy of a slice from a DataFrame\n",
      "\n",
      "See the caveats in the documentation: https://pandas.pydata.org/pandas-docs/stable/user_guide/indexing.html#returning-a-view-versus-a-copy\n",
      "  return super().replace(\n"
     ]
    }
   ],
   "source": [
    "subset_1 = data[data['label'].isin([12,5])]\n",
    "subset_1.replace({5:0,12:1}, inplace=True)"
   ]
  },
  {
   "cell_type": "code",
   "execution_count": 6,
   "metadata": {},
   "outputs": [
    {
     "data": {
      "text/html": [
       "<div>\n",
       "<style scoped>\n",
       "    .dataframe tbody tr th:only-of-type {\n",
       "        vertical-align: middle;\n",
       "    }\n",
       "\n",
       "    .dataframe tbody tr th {\n",
       "        vertical-align: top;\n",
       "    }\n",
       "\n",
       "    .dataframe thead th {\n",
       "        text-align: right;\n",
       "    }\n",
       "</style>\n",
       "<table border=\"1\" class=\"dataframe\">\n",
       "  <thead>\n",
       "    <tr style=\"text-align: right;\">\n",
       "      <th></th>\n",
       "      <th>Red-35</th>\n",
       "      <th>Red-85</th>\n",
       "      <th>Red-125</th>\n",
       "      <th>Red-165</th>\n",
       "      <th>Red-205</th>\n",
       "      <th>Red-245</th>\n",
       "      <th>Green-35</th>\n",
       "      <th>Green-85</th>\n",
       "      <th>Green-125</th>\n",
       "      <th>Green-165</th>\n",
       "      <th>Green-205</th>\n",
       "      <th>Green-245</th>\n",
       "      <th>Blue-35</th>\n",
       "      <th>Blue-85</th>\n",
       "      <th>Blue-125</th>\n",
       "      <th>Blue-165</th>\n",
       "      <th>Blue-205</th>\n",
       "      <th>Blue-245</th>\n",
       "      <th>label</th>\n",
       "    </tr>\n",
       "  </thead>\n",
       "  <tbody>\n",
       "    <tr>\n",
       "      <th>607</th>\n",
       "      <td>0.008026</td>\n",
       "      <td>61.337929</td>\n",
       "      <td>6155.726248</td>\n",
       "      <td>71662.411032</td>\n",
       "      <td>81724.103262</td>\n",
       "      <td>3.964135e+02</td>\n",
       "      <td>2796.013244</td>\n",
       "      <td>4354.625122</td>\n",
       "      <td>43556.171134</td>\n",
       "      <td>27910.393367</td>\n",
       "      <td>67176.388654</td>\n",
       "      <td>14206.408479</td>\n",
       "      <td>965.219510</td>\n",
       "      <td>11074.859193</td>\n",
       "      <td>12725.734879</td>\n",
       "      <td>56199.740361</td>\n",
       "      <td>67681.844113</td>\n",
       "      <td>11352.601945</td>\n",
       "      <td>0</td>\n",
       "    </tr>\n",
       "    <tr>\n",
       "      <th>608</th>\n",
       "      <td>0.023487</td>\n",
       "      <td>61.482307</td>\n",
       "      <td>3927.639324</td>\n",
       "      <td>60306.516192</td>\n",
       "      <td>92842.052589</td>\n",
       "      <td>2.862286e+03</td>\n",
       "      <td>1002.864587</td>\n",
       "      <td>1610.635438</td>\n",
       "      <td>18427.496782</td>\n",
       "      <td>60042.239387</td>\n",
       "      <td>67732.473968</td>\n",
       "      <td>11184.289839</td>\n",
       "      <td>1241.334853</td>\n",
       "      <td>8233.088943</td>\n",
       "      <td>4720.804139</td>\n",
       "      <td>37117.971320</td>\n",
       "      <td>101982.726108</td>\n",
       "      <td>6704.074637</td>\n",
       "      <td>0</td>\n",
       "    </tr>\n",
       "    <tr>\n",
       "      <th>609</th>\n",
       "      <td>0.017519</td>\n",
       "      <td>57.656667</td>\n",
       "      <td>4800.470667</td>\n",
       "      <td>60494.306085</td>\n",
       "      <td>83952.576951</td>\n",
       "      <td>1.069497e+04</td>\n",
       "      <td>1550.421525</td>\n",
       "      <td>2360.464229</td>\n",
       "      <td>33265.915089</td>\n",
       "      <td>29474.732871</td>\n",
       "      <td>65341.716737</td>\n",
       "      <td>28006.749550</td>\n",
       "      <td>2678.080638</td>\n",
       "      <td>7738.186503</td>\n",
       "      <td>6482.568729</td>\n",
       "      <td>47361.823628</td>\n",
       "      <td>58668.520440</td>\n",
       "      <td>37070.820062</td>\n",
       "      <td>0</td>\n",
       "    </tr>\n",
       "    <tr>\n",
       "      <th>610</th>\n",
       "      <td>0.023276</td>\n",
       "      <td>70.107727</td>\n",
       "      <td>4532.787462</td>\n",
       "      <td>46008.862982</td>\n",
       "      <td>109388.218553</td>\n",
       "      <td>8.458380e-07</td>\n",
       "      <td>1276.790140</td>\n",
       "      <td>3240.992934</td>\n",
       "      <td>20230.868123</td>\n",
       "      <td>21205.814465</td>\n",
       "      <td>103615.935110</td>\n",
       "      <td>10429.599227</td>\n",
       "      <td>1401.144585</td>\n",
       "      <td>9653.008501</td>\n",
       "      <td>6192.479711</td>\n",
       "      <td>31080.763536</td>\n",
       "      <td>111215.073686</td>\n",
       "      <td>457.529982</td>\n",
       "      <td>0</td>\n",
       "    </tr>\n",
       "    <tr>\n",
       "      <th>611</th>\n",
       "      <td>0.109566</td>\n",
       "      <td>149.406145</td>\n",
       "      <td>5387.076521</td>\n",
       "      <td>46934.360642</td>\n",
       "      <td>105537.863382</td>\n",
       "      <td>1.991184e+03</td>\n",
       "      <td>932.885112</td>\n",
       "      <td>970.191786</td>\n",
       "      <td>13358.255963</td>\n",
       "      <td>46470.866498</td>\n",
       "      <td>81432.257013</td>\n",
       "      <td>16835.543628</td>\n",
       "      <td>4924.358659</td>\n",
       "      <td>6574.165671</td>\n",
       "      <td>4060.096345</td>\n",
       "      <td>34032.888581</td>\n",
       "      <td>96389.506443</td>\n",
       "      <td>14018.984301</td>\n",
       "      <td>0</td>\n",
       "    </tr>\n",
       "    <tr>\n",
       "      <th>...</th>\n",
       "      <td>...</td>\n",
       "      <td>...</td>\n",
       "      <td>...</td>\n",
       "      <td>...</td>\n",
       "      <td>...</td>\n",
       "      <td>...</td>\n",
       "      <td>...</td>\n",
       "      <td>...</td>\n",
       "      <td>...</td>\n",
       "      <td>...</td>\n",
       "      <td>...</td>\n",
       "      <td>...</td>\n",
       "      <td>...</td>\n",
       "      <td>...</td>\n",
       "      <td>...</td>\n",
       "      <td>...</td>\n",
       "      <td>...</td>\n",
       "      <td>...</td>\n",
       "      <td>...</td>\n",
       "    </tr>\n",
       "    <tr>\n",
       "      <th>14895</th>\n",
       "      <td>0.083132</td>\n",
       "      <td>121.317693</td>\n",
       "      <td>5515.163805</td>\n",
       "      <td>48976.366364</td>\n",
       "      <td>104681.353875</td>\n",
       "      <td>7.057151e+02</td>\n",
       "      <td>1641.018724</td>\n",
       "      <td>2032.369136</td>\n",
       "      <td>19874.654233</td>\n",
       "      <td>44902.030955</td>\n",
       "      <td>81389.823111</td>\n",
       "      <td>10160.103842</td>\n",
       "      <td>5128.930386</td>\n",
       "      <td>3834.073683</td>\n",
       "      <td>2827.626167</td>\n",
       "      <td>29692.783027</td>\n",
       "      <td>99890.116993</td>\n",
       "      <td>18626.469744</td>\n",
       "      <td>1</td>\n",
       "    </tr>\n",
       "    <tr>\n",
       "      <th>14896</th>\n",
       "      <td>0.403484</td>\n",
       "      <td>795.477630</td>\n",
       "      <td>28539.598656</td>\n",
       "      <td>64729.206006</td>\n",
       "      <td>51814.931552</td>\n",
       "      <td>1.412038e+04</td>\n",
       "      <td>1361.251747</td>\n",
       "      <td>5183.936841</td>\n",
       "      <td>63384.682828</td>\n",
       "      <td>35351.469707</td>\n",
       "      <td>31503.222430</td>\n",
       "      <td>23215.436448</td>\n",
       "      <td>3865.862609</td>\n",
       "      <td>3671.631634</td>\n",
       "      <td>12358.876083</td>\n",
       "      <td>72755.552460</td>\n",
       "      <td>45797.709033</td>\n",
       "      <td>21550.368181</td>\n",
       "      <td>1</td>\n",
       "    </tr>\n",
       "    <tr>\n",
       "      <th>14897</th>\n",
       "      <td>1.853117</td>\n",
       "      <td>475.875570</td>\n",
       "      <td>5314.573870</td>\n",
       "      <td>33526.921598</td>\n",
       "      <td>117102.268920</td>\n",
       "      <td>3.578507e+03</td>\n",
       "      <td>981.610980</td>\n",
       "      <td>1432.975904</td>\n",
       "      <td>8769.555584</td>\n",
       "      <td>58630.185189</td>\n",
       "      <td>78539.680165</td>\n",
       "      <td>11645.992177</td>\n",
       "      <td>4134.380732</td>\n",
       "      <td>3131.175661</td>\n",
       "      <td>1796.503381</td>\n",
       "      <td>18191.061119</td>\n",
       "      <td>104209.354057</td>\n",
       "      <td>28537.525050</td>\n",
       "      <td>1</td>\n",
       "    </tr>\n",
       "    <tr>\n",
       "      <th>14898</th>\n",
       "      <td>6.768393</td>\n",
       "      <td>916.583864</td>\n",
       "      <td>5303.607383</td>\n",
       "      <td>41618.863490</td>\n",
       "      <td>102444.135082</td>\n",
       "      <td>9.710042e+03</td>\n",
       "      <td>1007.857244</td>\n",
       "      <td>931.281442</td>\n",
       "      <td>5387.142249</td>\n",
       "      <td>45732.910578</td>\n",
       "      <td>78636.638235</td>\n",
       "      <td>28304.170253</td>\n",
       "      <td>3109.847785</td>\n",
       "      <td>1299.112318</td>\n",
       "      <td>1473.864997</td>\n",
       "      <td>21521.053527</td>\n",
       "      <td>84281.278409</td>\n",
       "      <td>48314.842964</td>\n",
       "      <td>1</td>\n",
       "    </tr>\n",
       "    <tr>\n",
       "      <th>14899</th>\n",
       "      <td>0.437171</td>\n",
       "      <td>455.612402</td>\n",
       "      <td>13754.161927</td>\n",
       "      <td>40373.161880</td>\n",
       "      <td>103054.566637</td>\n",
       "      <td>2.362060e+03</td>\n",
       "      <td>1502.767871</td>\n",
       "      <td>2883.293733</td>\n",
       "      <td>28140.434468</td>\n",
       "      <td>28578.977131</td>\n",
       "      <td>72655.648764</td>\n",
       "      <td>26238.878034</td>\n",
       "      <td>3227.631601</td>\n",
       "      <td>7251.422320</td>\n",
       "      <td>2884.545857</td>\n",
       "      <td>26207.297605</td>\n",
       "      <td>85579.593764</td>\n",
       "      <td>34849.508853</td>\n",
       "      <td>1</td>\n",
       "    </tr>\n",
       "  </tbody>\n",
       "</table>\n",
       "<p>12421 rows × 19 columns</p>\n",
       "</div>"
      ],
      "text/plain": [
       "         Red-35      Red-85       Red-125       Red-165        Red-205  \\\n",
       "607    0.008026   61.337929   6155.726248  71662.411032   81724.103262   \n",
       "608    0.023487   61.482307   3927.639324  60306.516192   92842.052589   \n",
       "609    0.017519   57.656667   4800.470667  60494.306085   83952.576951   \n",
       "610    0.023276   70.107727   4532.787462  46008.862982  109388.218553   \n",
       "611    0.109566  149.406145   5387.076521  46934.360642  105537.863382   \n",
       "...         ...         ...           ...           ...            ...   \n",
       "14895  0.083132  121.317693   5515.163805  48976.366364  104681.353875   \n",
       "14896  0.403484  795.477630  28539.598656  64729.206006   51814.931552   \n",
       "14897  1.853117  475.875570   5314.573870  33526.921598  117102.268920   \n",
       "14898  6.768393  916.583864   5303.607383  41618.863490  102444.135082   \n",
       "14899  0.437171  455.612402  13754.161927  40373.161880  103054.566637   \n",
       "\n",
       "            Red-245     Green-35     Green-85     Green-125     Green-165  \\\n",
       "607    3.964135e+02  2796.013244  4354.625122  43556.171134  27910.393367   \n",
       "608    2.862286e+03  1002.864587  1610.635438  18427.496782  60042.239387   \n",
       "609    1.069497e+04  1550.421525  2360.464229  33265.915089  29474.732871   \n",
       "610    8.458380e-07  1276.790140  3240.992934  20230.868123  21205.814465   \n",
       "611    1.991184e+03   932.885112   970.191786  13358.255963  46470.866498   \n",
       "...             ...          ...          ...           ...           ...   \n",
       "14895  7.057151e+02  1641.018724  2032.369136  19874.654233  44902.030955   \n",
       "14896  1.412038e+04  1361.251747  5183.936841  63384.682828  35351.469707   \n",
       "14897  3.578507e+03   981.610980  1432.975904   8769.555584  58630.185189   \n",
       "14898  9.710042e+03  1007.857244   931.281442   5387.142249  45732.910578   \n",
       "14899  2.362060e+03  1502.767871  2883.293733  28140.434468  28578.977131   \n",
       "\n",
       "           Green-205     Green-245      Blue-35       Blue-85      Blue-125  \\\n",
       "607     67176.388654  14206.408479   965.219510  11074.859193  12725.734879   \n",
       "608     67732.473968  11184.289839  1241.334853   8233.088943   4720.804139   \n",
       "609     65341.716737  28006.749550  2678.080638   7738.186503   6482.568729   \n",
       "610    103615.935110  10429.599227  1401.144585   9653.008501   6192.479711   \n",
       "611     81432.257013  16835.543628  4924.358659   6574.165671   4060.096345   \n",
       "...              ...           ...          ...           ...           ...   \n",
       "14895   81389.823111  10160.103842  5128.930386   3834.073683   2827.626167   \n",
       "14896   31503.222430  23215.436448  3865.862609   3671.631634  12358.876083   \n",
       "14897   78539.680165  11645.992177  4134.380732   3131.175661   1796.503381   \n",
       "14898   78636.638235  28304.170253  3109.847785   1299.112318   1473.864997   \n",
       "14899   72655.648764  26238.878034  3227.631601   7251.422320   2884.545857   \n",
       "\n",
       "           Blue-165       Blue-205      Blue-245  label  \n",
       "607    56199.740361   67681.844113  11352.601945      0  \n",
       "608    37117.971320  101982.726108   6704.074637      0  \n",
       "609    47361.823628   58668.520440  37070.820062      0  \n",
       "610    31080.763536  111215.073686    457.529982      0  \n",
       "611    34032.888581   96389.506443  14018.984301      0  \n",
       "...             ...            ...           ...    ...  \n",
       "14895  29692.783027   99890.116993  18626.469744      1  \n",
       "14896  72755.552460   45797.709033  21550.368181      1  \n",
       "14897  18191.061119  104209.354057  28537.525050      1  \n",
       "14898  21521.053527   84281.278409  48314.842964      1  \n",
       "14899  26207.297605   85579.593764  34849.508853      1  \n",
       "\n",
       "[12421 rows x 19 columns]"
      ]
     },
     "execution_count": 6,
     "metadata": {},
     "output_type": "execute_result"
    }
   ],
   "source": [
    "subset_1"
   ]
  },
  {
   "cell_type": "code",
   "execution_count": 7,
   "metadata": {},
   "outputs": [
    {
     "data": {
      "text/plain": [
       "LogisticRegression(class_weight={0: 4.0, 1: 1.0}, max_iter=900,\n",
       "                   multi_class='multinomial', random_state=50)"
      ]
     },
     "execution_count": 7,
     "metadata": {},
     "output_type": "execute_result"
    }
   ],
   "source": [
    "from sklearn.linear_model import LogisticRegression\n",
    "from sklearn.metrics import classification_report, confusion_matrix \n",
    "from sklearn.model_selection import train_test_split\n",
    "X = subset_1.drop(columns=['label'])\n",
    "y = subset_1['label']\n",
    "weights = {0:4.0, 1:1.0 }\n",
    "X_train, X_test, y_train, y_test = train_test_split(X,y,test_size=0.25, random_state=50)\n",
    "logistic_model = LogisticRegression(random_state=50, class_weight=weights, solver='lbfgs', multi_class='multinomial', max_iter = 900)\n",
    "logistic_model.fit(X_train, y_train)"
   ]
  },
  {
   "cell_type": "code",
   "execution_count": 10,
   "metadata": {},
   "outputs": [
    {
     "name": "stdout",
     "output_type": "stream",
     "text": [
      "The training set got a score of 84.767 %\n"
     ]
    }
   ],
   "source": [
    "training_score = logistic_model.score(X_train, y_train)*100\n",
    "print('The training set got a score of {} %'.format(round(training_score,3)))"
   ]
  },
  {
   "cell_type": "code",
   "execution_count": 11,
   "metadata": {},
   "outputs": [
    {
     "name": "stdout",
     "output_type": "stream",
     "text": [
      "The model achieved an accuracy score of 85.576 %\n"
     ]
    }
   ],
   "source": [
    "predictions = logistic_model.predict(X_test)\n",
    "print(\"The model achieved an accuracy score of {} %\" .format(100*round(logistic_model.score(X_test, y_test), 5)))"
   ]
  },
  {
   "cell_type": "code",
   "execution_count": 12,
   "metadata": {},
   "outputs": [
    {
     "name": "stdout",
     "output_type": "stream",
     "text": [
      "              precision    recall  f1-score   support\n",
      "\n",
      "           0       0.70      0.93      0.80       961\n",
      "           1       0.96      0.82      0.89      2145\n",
      "\n",
      "    accuracy                           0.86      3106\n",
      "   macro avg       0.83      0.88      0.84      3106\n",
      "weighted avg       0.88      0.86      0.86      3106\n",
      "\n"
     ]
    }
   ],
   "source": [
    "print(classification_report(y_test, predictions))"
   ]
  },
  {
   "cell_type": "code",
   "execution_count": 13,
   "metadata": {},
   "outputs": [
    {
     "data": {
      "text/plain": [
       "<AxesSubplot:>"
      ]
     },
     "execution_count": 13,
     "metadata": {},
     "output_type": "execute_result"
    },
    {
     "data": {
      "image/png": "[encoded data removed]",
      "text/plain": [
       "<Figure size 1080x1080 with 2 Axes>"
      ]
     },
     "metadata": {
      "needs_background": "light"
     },
     "output_type": "display_data"
    }
   ],
   "source": [
    "import seaborn as sns\n",
    "import matplotlib.pyplot as plt\n",
    "plt.figure(figsize=(15,15))\n",
    "cf_matrix = confusion_matrix(y_test,predictions)\n",
    "sns.heatmap(cf_matrix, annot=True)"
   ]
  },
  {
   "cell_type": "code",
   "execution_count": 18,
   "metadata": {},
   "outputs": [],
   "source": [
    "clf.fit(X_train,y_train)\n",
    "svm_predict = clf.predict(X_test)"
   ]
  },
  {
   "cell_type": "code",
   "execution_count": 19,
   "metadata": {},
   "outputs": [
    {
     "name": "stdout",
     "output_type": "stream",
     "text": [
      "The training set got a score of 85.765 %\n"
     ]
    }
   ],
   "source": [
    "training_score = clf.score(X_train, y_train)*100\n",
    "print('The training set got a score of {} %'.format(round(training_score,3)))"
   ]
  },
  {
   "cell_type": "code",
   "execution_count": 20,
   "metadata": {},
   "outputs": [
    {
     "name": "stdout",
     "output_type": "stream",
     "text": [
      "The test set got a score of 86.349 %\n"
     ]
    }
   ],
   "source": [
    "test_score = clf.score(X_test, y_test)*100\n",
    "print('The test set got a score of {} %'.format(round(test_score,3)))"
   ]
  },
  {
   "cell_type": "code",
   "execution_count": 21,
   "metadata": {},
   "outputs": [
    {
     "name": "stdout",
     "output_type": "stream",
     "text": [
      "              precision    recall  f1-score   support\n",
      "\n",
      "           0       0.71      0.93      0.81       961\n",
      "           1       0.96      0.83      0.89      2145\n",
      "\n",
      "    accuracy                           0.86      3106\n",
      "   macro avg       0.84      0.88      0.85      3106\n",
      "weighted avg       0.89      0.86      0.87      3106\n",
      "\n"
     ]
    }
   ],
   "source": [
    "print(classification_report(y_test, svm_predict))"
   ]
  },
  {
   "cell_type": "code",
   "execution_count": 22,
   "metadata": {},
   "outputs": [
    {
     "data": {
      "text/plain": [
       "<AxesSubplot:>"
      ]
     },
     "execution_count": 22,
     "metadata": {},
     "output_type": "execute_result"
    },
    {
     "data": {
      "image/png": "[encoded data removed]",
      "text/plain": [
       "<Figure size 1080x1080 with 2 Axes>"
      ]
     },
     "metadata": {
      "needs_background": "light"
     },
     "output_type": "display_data"
    }
   ],
   "source": [
    "plt.figure(figsize=(15,15))\n",
    "cf_matrix = confusion_matrix(y_test, svm_predict)\n",
    "sns.heatmap(cf_matrix, annot=True)"
   ]
  },
  {
   "cell_type": "code",
   "execution_count": 30,
   "metadata": {},
   "outputs": [],
   "source": [
    "## using SMOTE analysis to make balanced dataset\n",
    "from imblearn.over_sampling import SMOTE\n",
    "sm = SMOTE(random_state=42)\n",
    "X_res, y_res = sm.fit_resample(X_train,y_train)"
   ]
  },
  {
   "cell_type": "code",
   "execution_count": 31,
   "metadata": {},
   "outputs": [
    {
     "name": "stdout",
     "output_type": "stream",
     "text": [
      "Counter({0: 6339, 1: 6339})\n"
     ]
    }
   ],
   "source": [
    "from collections import Counter\n",
    "print(Counter(y_res))"
   ]
  },
  {
   "cell_type": "code",
   "execution_count": 41,
   "metadata": {},
   "outputs": [
    {
     "data": {
      "text/plain": [
       "Pipeline(steps=[('standardscaler', StandardScaler()),\n",
       "                ('svc', SVC(kernel='linear'))])"
      ]
     },
     "execution_count": 41,
     "metadata": {},
     "output_type": "execute_result"
    }
   ],
   "source": [
    "clf = make_pipeline(StandardScaler(), svm.SVC(kernel='linear'))\n",
    "clf.fit(X_res,y_res)"
   ]
  },
  {
   "cell_type": "code",
   "execution_count": 42,
   "metadata": {},
   "outputs": [],
   "source": [
    "svm_predict_2 = clf.predict(X_test)"
   ]
  },
  {
   "cell_type": "code",
   "execution_count": 44,
   "metadata": {},
   "outputs": [
    {
     "name": "stdout",
     "output_type": "stream",
     "text": [
      "              precision    recall  f1-score   support\n",
      "\n",
      "           0       0.79      0.88      0.83       961\n",
      "           1       0.94      0.89      0.92      2145\n",
      "\n",
      "    accuracy                           0.89      3106\n",
      "   macro avg       0.87      0.89      0.88      3106\n",
      "weighted avg       0.90      0.89      0.89      3106\n",
      "\n"
     ]
    }
   ],
   "source": [
    "print(classification_report(y_test, svm_predict_2))"
   ]
  },
  {
   "cell_type": "code",
   "execution_count": 45,
   "metadata": {},
   "outputs": [
    {
     "data": {
      "text/plain": [
       "<AxesSubplot:>"
      ]
     },
     "execution_count": 45,
     "metadata": {},
     "output_type": "execute_result"
    },
    {
     "data": {
      "image/png": "[encoded data removed]",
      "text/plain": [
       "<Figure size 1080x1080 with 2 Axes>"
      ]
     },
     "metadata": {
      "needs_background": "light"
     },
     "output_type": "display_data"
    }
   ],
   "source": [
    "plt.figure(figsize=(15,15))\n",
    "cf_matrix = confusion_matrix(y_test, svm_predict_2)\n",
    "sns.heatmap(cf_matrix, annot=True)"
   ]
  },
  {
   "cell_type": "code",
   "execution_count": 46,
   "metadata": {},
   "outputs": [
    {
     "data": {
      "text/plain": [
       "<AxesSubplot:>"
      ]
     },
     "execution_count": 46,
     "metadata": {},
     "output_type": "execute_result"
    },
    {
     "data": {
      "image/png": "[encoded data removed]",
      "text/plain": [
       "<Figure size 1080x1080 with 2 Axes>"
      ]
     },
     "metadata": {
      "needs_background": "light"
     },
     "output_type": "display_data"
    }
   ],
   "source": [
    "import numpy as np\n",
    "plt.figure(figsize=(15,15))\n",
    "sns.heatmap(cf_matrix/np.sum(cf_matrix), annot=True, \n",
    "            fmt='.2%', cmap='Blues')"
   ]
  },
  {
   "cell_type": "code",
   "execution_count": 47,
   "metadata": {},
   "outputs": [
    {
     "name": "stderr",
     "output_type": "stream",
     "text": [
      "C:\\Users\\User\\anaconda3\\lib\\site-packages\\pandas\\core\\frame.py:4379: SettingWithCopyWarning: \n",
      "A value is trying to be set on a copy of a slice from a DataFrame\n",
      "\n",
      "See the caveats in the documentation: https://pandas.pydata.org/pandas-docs/stable/user_guide/indexing.html#returning-a-view-versus-a-copy\n",
      "  return super().replace(\n"
     ]
    }
   ],
   "source": [
    "## Using the largest 3 groups. \n",
    "subset_1 = data[data['label'].isin([12,5,10])]\n",
    "subset_1.replace({5:0, 12:1, 10:2}, inplace=True)"
   ]
  },
  {
   "cell_type": "code",
   "execution_count": 48,
   "metadata": {},
   "outputs": [
    {
     "data": {
      "text/plain": [
       "1    8484\n",
       "0    3937\n",
       "2    3268\n",
       "Name: label, dtype: int64"
      ]
     },
     "execution_count": 48,
     "metadata": {},
     "output_type": "execute_result"
    }
   ],
   "source": [
    "subset_1['label'].value_counts()"
   ]
  },
  {
   "cell_type": "code",
   "execution_count": 54,
   "metadata": {},
   "outputs": [
    {
     "data": {
      "text/plain": [
       "LogisticRegression(class_weight={0: 4.0, 1: 1.0, 2: 4.0}, max_iter=3500,\n",
       "                   multi_class='multinomial', random_state=50)"
      ]
     },
     "execution_count": 54,
     "metadata": {},
     "output_type": "execute_result"
    }
   ],
   "source": [
    "X = subset_1.drop(columns=['label'])\n",
    "y = subset_1['label']\n",
    "weights = {0:4.0, 1:1.0, 2:4.0 }\n",
    "X_train, X_test, y_train, y_test = train_test_split(X,y,test_size=0.25, random_state=50)\n",
    "logistic_model = LogisticRegression(random_state=50, class_weight=weights, solver='lbfgs', multi_class='multinomial', max_iter = 3500)\n",
    "logistic_model.fit(X_train, y_train)"
   ]
  },
  {
   "cell_type": "code",
   "execution_count": 55,
   "metadata": {},
   "outputs": [
    {
     "name": "stdout",
     "output_type": "stream",
     "text": [
      "The training set got a score of 85.025 %\n"
     ]
    }
   ],
   "source": [
    "training_score = logistic_model.score(X_train, y_train)*100\n",
    "print('The training set got a score of {} %'.format(round(training_score,3)))"
   ]
  },
  {
   "cell_type": "code",
   "execution_count": 56,
   "metadata": {},
   "outputs": [
    {
     "name": "stdout",
     "output_type": "stream",
     "text": [
      "The model achieved an accuracy score of 84.425 %\n"
     ]
    }
   ],
   "source": [
    "predictions = logistic_model.predict(X_test)\n",
    "print(\"The model achieved an accuracy score of {} %\" .format(100*round(logistic_model.score(X_test, y_test), 5)))"
   ]
  },
  {
   "cell_type": "code",
   "execution_count": 57,
   "metadata": {},
   "outputs": [
    {
     "name": "stdout",
     "output_type": "stream",
     "text": [
      "              precision    recall  f1-score   support\n",
      "\n",
      "           0       0.66      0.87      0.75      1003\n",
      "           1       0.96      0.80      0.87      2115\n",
      "           2       0.90      0.92      0.91       805\n",
      "\n",
      "    accuracy                           0.84      3923\n",
      "   macro avg       0.84      0.87      0.85      3923\n",
      "weighted avg       0.87      0.84      0.85      3923\n",
      "\n"
     ]
    }
   ],
   "source": [
    "print(classification_report(y_test, predictions))"
   ]
  },
  {
   "cell_type": "code",
   "execution_count": 59,
   "metadata": {},
   "outputs": [
    {
     "data": {
      "text/plain": [
       "<AxesSubplot:>"
      ]
     },
     "execution_count": 59,
     "metadata": {},
     "output_type": "execute_result"
    },
    {
     "data": {
      "image/png": "[encoded data removed]",
      "text/plain": [
       "<Figure size 1080x1080 with 2 Axes>"
      ]
     },
     "metadata": {
      "needs_background": "light"
     },
     "output_type": "display_data"
    }
   ],
   "source": [
    "plt.figure(figsize=(15,15))\n",
    "cf_matrix = confusion_matrix(y_test, predictions)\n",
    "sns.heatmap(cf_matrix, annot=True)"
   ]
  },
  {
   "cell_type": "code",
   "execution_count": 60,
   "metadata": {},
   "outputs": [],
   "source": [
    "clf = make_pipeline(StandardScaler(), svm.SVC(kernel='linear', class_weight=weights))"
   ]
  },
  {
   "cell_type": "code",
   "execution_count": 61,
   "metadata": {},
   "outputs": [],
   "source": [
    "clf.fit(X_train,y_train)\n",
    "svm_predict = clf.predict(X_test)"
   ]
  },
  {
   "cell_type": "code",
   "execution_count": 62,
   "metadata": {},
   "outputs": [
    {
     "data": {
      "text/plain": [
       "<AxesSubplot:>"
      ]
     },
     "execution_count": 62,
     "metadata": {},
     "output_type": "execute_result"
    },
    {
     "data": {
      "image/png": "[encoded data removed]",
      "text/plain": [
       "<Figure size 1080x1080 with 2 Axes>"
      ]
     },
     "metadata": {
      "needs_background": "light"
     },
     "output_type": "display_data"
    }
   ],
   "source": [
    "plt.figure(figsize=(15,15))\n",
    "cf_matrix = confusion_matrix(y_test,svm_predict)\n",
    "sns.heatmap(cf_matrix, annot=True)"
   ]
  },
  {
   "cell_type": "code",
   "execution_count": 63,
   "metadata": {},
   "outputs": [
    {
     "name": "stdout",
     "output_type": "stream",
     "text": [
      "              precision    recall  f1-score   support\n",
      "\n",
      "           0       0.68      0.87      0.77      1003\n",
      "           1       0.96      0.82      0.88      2115\n",
      "           2       0.90      0.94      0.92       805\n",
      "\n",
      "    accuracy                           0.86      3923\n",
      "   macro avg       0.85      0.88      0.86      3923\n",
      "weighted avg       0.88      0.86      0.86      3923\n",
      "\n"
     ]
    }
   ],
   "source": [
    "print(classification_report(y_test, svm_predict))"
   ]
  },
  {
   "cell_type": "code",
   "execution_count": 64,
   "metadata": {},
   "outputs": [],
   "source": [
    "sm = SMOTE(random_state=42)\n",
    "X_res, y_res = sm.fit_resample(X_train,y_train)"
   ]
  },
  {
   "cell_type": "code",
   "execution_count": 65,
   "metadata": {},
   "outputs": [
    {
     "name": "stdout",
     "output_type": "stream",
     "text": [
      "Counter({1: 6369, 0: 6369, 2: 6369})\n"
     ]
    }
   ],
   "source": [
    "from collections import Counter\n",
    "print(Counter(y_res))"
   ]
  },
  {
   "cell_type": "code",
   "execution_count": 66,
   "metadata": {},
   "outputs": [],
   "source": [
    "clf = make_pipeline(StandardScaler(), svm.SVC(kernel='linear'))"
   ]
  },
  {
   "cell_type": "code",
   "execution_count": 67,
   "metadata": {},
   "outputs": [
    {
     "data": {
      "text/plain": [
       "Pipeline(steps=[('standardscaler', StandardScaler()),\n",
       "                ('svc', SVC(kernel='linear'))])"
      ]
     },
     "execution_count": 67,
     "metadata": {},
     "output_type": "execute_result"
    }
   ],
   "source": [
    "clf.fit(X_res,y_res)"
   ]
  },
  {
   "cell_type": "code",
   "execution_count": 68,
   "metadata": {},
   "outputs": [],
   "source": [
    "svm_predict_2 = clf.predict(X_test)"
   ]
  },
  {
   "cell_type": "code",
   "execution_count": 69,
   "metadata": {},
   "outputs": [
    {
     "data": {
      "text/plain": [
       "<AxesSubplot:>"
      ]
     },
     "execution_count": 69,
     "metadata": {},
     "output_type": "execute_result"
    },
    {
     "data": {
      "image/png": "[encoded data removed]",
      "text/plain": [
       "<Figure size 1080x1080 with 2 Axes>"
      ]
     },
     "metadata": {
      "needs_background": "light"
     },
     "output_type": "display_data"
    }
   ],
   "source": [
    "import numpy as np\n",
    "plt.figure(figsize=(15,15))\n",
    "cf_matrix_2 = confusion_matrix(y_test, svm_predict_2)\n",
    "sns.heatmap(cf_matrix_2/np.sum(cf_matrix_2), annot=True, \n",
    "            fmt='.2%', cmap='Blues')"
   ]
  },
  {
   "cell_type": "code",
   "execution_count": 70,
   "metadata": {},
   "outputs": [
    {
     "name": "stdout",
     "output_type": "stream",
     "text": [
      "              precision    recall  f1-score   support\n",
      "\n",
      "           0       0.76      0.83      0.79      1003\n",
      "           1       0.94      0.88      0.91      2115\n",
      "           2       0.90      0.94      0.92       805\n",
      "\n",
      "    accuracy                           0.88      3923\n",
      "   macro avg       0.86      0.88      0.87      3923\n",
      "weighted avg       0.88      0.88      0.88      3923\n",
      "\n"
     ]
    }
   ],
   "source": [
    "print(classification_report(y_test, svm_predict_2))"
   ]
  },
  {
   "cell_type": "code",
   "execution_count": 73,
   "metadata": {},
   "outputs": [],
   "source": [
    "## Using full dataset with SMOTE imbalancing to make balanced datset\n",
    "X = data.drop(columns=['label'])\n",
    "y = data['label']\n",
    "X_train, X_test, y_train, y_test = train_test_split(X,y,test_size=0.25, random_state=50)\n",
    "sm = SMOTE(random_state=42)\n",
    "X_res, y_res = sm.fit_resample(X_train,y_train)"
   ]
  },
  {
   "cell_type": "code",
   "execution_count": 74,
   "metadata": {},
   "outputs": [
    {
     "name": "stdout",
     "output_type": "stream",
     "text": [
      "Counter({12: 6371, 8: 6371, 3: 6371, 10: 6371, 5: 6371, 2: 6371, 0: 6371, 13: 6371, 11: 6371, 1: 6371, 7: 6371, 14: 6371, 9: 6371, 6: 6371, 4: 6371})\n"
     ]
    }
   ],
   "source": [
    "print(Counter(y_res))"
   ]
  },
  {
   "cell_type": "code",
   "execution_count": 81,
   "metadata": {},
   "outputs": [
    {
     "data": {
      "text/plain": [
       "<AxesSubplot:>"
      ]
     },
     "execution_count": 81,
     "metadata": {},
     "output_type": "execute_result"
    },
    {
     "data": {
      "image/png": "[encoded data removed]",
      "text/plain": [
       "<Figure size 1080x1080 with 2 Axes>"
      ]
     },
     "metadata": {
      "needs_background": "light"
     },
     "output_type": "display_data"
    }
   ],
   "source": [
    "clf = make_pipeline(StandardScaler(), svm.SVC(kernel='linear'))\n",
    "clf.fit(X_res,y_res)\n",
    "svm_predict = clf.predict(X_test)\n",
    "plt.figure(figsize=(15,15))\n",
    "cf_matrix_2 = confusion_matrix(y_test, svm_predict)\n",
    "sns.heatmap(cf_matrix_2/np.sum(cf_matrix_2), annot=True, \n",
    "            fmt='.2%', cmap='Blues')"
   ]
  },
  {
   "cell_type": "code",
   "execution_count": 82,
   "metadata": {},
   "outputs": [
    {
     "name": "stdout",
     "output_type": "stream",
     "text": [
      "              precision    recall  f1-score   support\n",
      "\n",
      "           0       0.08      0.77      0.14        13\n",
      "           1       0.06      0.67      0.11        15\n",
      "           2       0.56      0.85      0.68        96\n",
      "           3       0.40      0.57      0.47         7\n",
      "           4       0.00      0.00      0.00         5\n",
      "           5       0.77      0.74      0.75       978\n",
      "           6       0.00      0.00      0.00         4\n",
      "           7       0.14      0.83      0.23         6\n",
      "           8       0.72      0.67      0.69       486\n",
      "           9       0.02      0.29      0.04         7\n",
      "          10       0.87      0.65      0.74       815\n",
      "          11       0.02      0.32      0.03        22\n",
      "          12       0.95      0.66      0.78      2113\n",
      "          13       0.25      0.43      0.32         7\n",
      "          14       0.16      0.44      0.23        18\n",
      "\n",
      "    accuracy                           0.67      4592\n",
      "   macro avg       0.33      0.53      0.35      4592\n",
      "weighted avg       0.85      0.67      0.74      4592\n",
      "\n"
     ]
    }
   ],
   "source": [
    "print(classification_report(y_test, svm_predict))"
   ]
  },
  {
   "cell_type": "code",
   "execution_count": null,
   "metadata": {},
   "outputs": [],
   "source": [
    "## in report, talk about the incorrect classifications between classes. \n",
    "## Report should include a section that should talk about improvemnets to be made about features. \n",
    "## Talk about the process of making your features (grayscale vs color)\n",
    "## Go through the process of the project ( pixels - binning- soft bining with intensity value - soft bining with all 3 color\n",
    " ## channels - modeling with all classes - modeling with top 2 classes - modeling with top 3 classes)"
   ]
  }
 ],
 "metadata": {
  "kernelspec": {
   "display_name": "Python 3",
   "language": "python",
   "name": "python3"
  },
  "language_info": {
   "codemirror_mode": {
    "name": "ipython",
    "version": 3
   },
   "file_extension": ".py",
   "mimetype": "text/x-python",
   "name": "python",
   "nbconvert_exporter": "python",
   "pygments_lexer": "ipython3",
   "version": "3.8.5"
  }
 },
 "nbformat": 4,
 "nbformat_minor": 4
}
